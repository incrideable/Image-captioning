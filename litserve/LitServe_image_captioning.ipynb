{
  "cells": [
    {
      "cell_type": "code",
      "execution_count": 2,
      "metadata": {
        "colab": {
          "base_uri": "https://localhost:8080/"
        },
        "id": "xuVRF5eO4rXs",
        "outputId": "fef73128-2900-44b6-f668-d0542c9b4764"
      },
      "outputs": [
        {
          "name": "stderr",
          "output_type": "stream",
          "text": [
            "VisionEncoderDecoderModel has generative capabilities, as `prepare_inputs_for_generation` is explicitly overwritten. However, it doesn't directly inherit from `GenerationMixin`. From 👉v4.50👈 onwards, `PreTrainedModel` will NOT inherit from `GenerationMixin`, and this model will lose the ability to call `generate` and other related functions.\n",
            "  - If you're using `trust_remote_code=True`, you can get rid of this warning by loading the model with an auto class. See https://huggingface.co/docs/transformers/en/model_doc/auto#auto-classes\n",
            "  - If you are the owner of the model architecture code, please modify your model class such that it inherits from `GenerationMixin` (after `PreTrainedModel`, otherwise you'll get an exception).\n",
            "  - If you are not the owner of the model architecture class, please contact the model code owner to update it.\n"
          ]
        },
        {
          "name": "stdout",
          "output_type": "stream",
          "text": [
            "Using device: cpu\n"
          ]
        },
        {
          "name": "stderr",
          "output_type": "stream",
          "text": [
            "c:\\Users\\a\\.conda\\envs\\vlt\\lib\\site-packages\\transformers\\tokenization_utils_base.py:1617: FutureWarning: `clean_up_tokenization_spaces` was not set. It will be set to `True` by default. This behavior will be deprecated in transformers v4.45, and will be then set to `False` by default. For more details check this issue: https://github.com/huggingface/transformers/issues/31884\n",
            "  warnings.warn(\n"
          ]
        }
      ],
      "source": [
        "import torch  \n",
        "from PIL import Image  \n",
        "from transformers import VisionEncoderDecoderModel, ViTImageProcessor, GPT2TokenizerFast  \n",
        "import os  \n",
        "\n",
        "# 精简版 本地图片加载，不再验证URL  \n",
        "def load_image(image_path):  \n",
        "    if os.path.exists(image_path):  \n",
        "        return Image.open(image_path)  \n",
        "    else:  \n",
        "        raise ValueError(f\"Invalid image path: {image_path}\")  \n",
        "\n",
        "class ImageCaptioningLitLocal:  \n",
        "    def setup(self, model_dir, accelerator='auto'):  \n",
        "        # 设备自动选择  \n",
        "        if accelerator == \"cuda\" and torch.cuda.is_available():  \n",
        "            self.device = \"cuda\"  \n",
        "        elif accelerator == \"auto\":  \n",
        "            self.device = \"cuda\" if torch.cuda.is_available() else \"cpu\"  \n",
        "        else:  \n",
        "            self.device = \"cpu\"  \n",
        "\n",
        "        print(f\"Using device: {self.device}\")  \n",
        "\n",
        "        # 加载本地模型和对应的tokenizer与processor  \n",
        "        self.model = VisionEncoderDecoderModel.from_pretrained(model_dir).to(self.device)  \n",
        "        self.tokenizer = GPT2TokenizerFast.from_pretrained(model_dir)  \n",
        "        self.image_processor = ViTImageProcessor.from_pretrained(model_dir)  \n",
        "\n",
        "    def predict(self, image_path):  \n",
        "        image = load_image(image_path)  \n",
        "        # 处理图片，转tensor并转设备  \n",
        "        pixel_values = self.image_processor(image, return_tensors=\"pt\").pixel_values.to(self.device)  \n",
        "\n",
        "        # 生成结果  \n",
        "        outputs = self.model.generate(pixel_values)  \n",
        "        caption = self.tokenizer.decode(outputs[0], skip_special_tokens=True)  \n",
        "        return caption  \n",
        "\n",
        "# 实例化与加载  \n",
        "model_path = r\"F:\\Workplace\\Image-captioning-ViT-main\\models\\vit-gpt2-image-captioning\"  \n",
        "image_dir = r\"F:\\Workplace\\Image-captioning-ViT-main\\image\"  \n",
        "\n",
        "api = ImageCaptioningLitLocal()  \n",
        "api.setup(model_dir=model_path, accelerator=\"cuda\")  "
      ]
    },
    {
      "cell_type": "code",
      "execution_count": 3,
      "metadata": {
        "colab": {
          "base_uri": "https://localhost:8080/"
        },
        "id": "8YC6vpXn6AHv",
        "outputId": "a041e789-ebba-4a0c-885a-0262de93f251"
      },
      "outputs": [
        {
          "name": "stderr",
          "output_type": "stream",
          "text": [
            "The attention mask is not set and cannot be inferred from input because pad token is same as eos token. As a consequence, you may observe unexpected behavior. Please pass your input's `attention_mask` to obtain reliable results.\n",
            "c:\\Users\\a\\.conda\\envs\\vlt\\lib\\site-packages\\transformers\\generation\\utils.py:1220: UserWarning: Using the model-agnostic default `max_length` (=20) to control the generation length. We recommend setting `max_new_tokens` to control the maximum length of the generation.\n",
            "  warnings.warn(\n",
            "We strongly recommend passing in an `attention_mask` since your input_ids may be padded. See https://huggingface.co/docs/transformers/troubleshooting#incorrect-output-when-padding-tokens-arent-masked.\n",
            "You may ignore this warning if your `pad_token_id` (50256) is identical to the `bos_token_id` (50256), `eos_token_id` (50256), or the `sep_token_id` (None), and your input is not padded.\n"
          ]
        },
        {
          "name": "stdout",
          "output_type": "stream",
          "text": [
            "Caption 1: a black horse running through a grassy field \n"
          ]
        }
      ],
      "source": [
        "# Example 1\n",
        "image_path_1 = os.path.join(image_dir, \"img1.jpg\")  \n",
        "print(\"Caption 1:\", api.predict(image_path_1))  "
      ]
    },
    {
      "cell_type": "code",
      "execution_count": 4,
      "metadata": {
        "colab": {
          "base_uri": "https://localhost:8080/"
        },
        "id": "V_9zsKwQ6evr",
        "outputId": "bff30c91-370b-4c0e-94be-bcd16a2842ca"
      },
      "outputs": [
        {
          "name": "stdout",
          "output_type": "stream",
          "text": [
            "Caption 2: a man standing on top of a hill with a mountain \n"
          ]
        }
      ],
      "source": [
        "# Example 2\n",
        "image_path_2 = os.path.join(image_dir, \"img2.jpg\")  \n",
        "print(\"Caption 2:\", api.predict(image_path_2))  "
      ]
    },
    {
      "cell_type": "code",
      "execution_count": null,
      "metadata": {
        "id": "WmOH06Xj6rUA"
      },
      "outputs": [],
      "source": []
    }
  ],
  "metadata": {
    "accelerator": "GPU",
    "colab": {
      "gpuType": "T4",
      "provenance": []
    },
    "kernelspec": {
      "display_name": "vlt",
      "language": "python",
      "name": "python3"
    },
    "language_info": {
      "codemirror_mode": {
        "name": "ipython",
        "version": 3
      },
      "file_extension": ".py",
      "mimetype": "text/x-python",
      "name": "python",
      "nbconvert_exporter": "python",
      "pygments_lexer": "ipython3",
      "version": "3.9.0"
    }
  },
  "nbformat": 4,
  "nbformat_minor": 0
}
